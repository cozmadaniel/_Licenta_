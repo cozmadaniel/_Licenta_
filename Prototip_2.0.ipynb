{
 "cells": [
  {
   "cell_type": "markdown",
   "id": "6e522f90-1c7e-48ff-90d6-3670739135c6",
   "metadata": {},
   "source": [
    "# Studiu teoretic (Natural Language Processing, Sentiment Analysis, Opinion Mining, prelucrare mesaje Twitter / X).\n",
    "### In domeniul Natural Language Processing - Sentiment Analysis exista foarte multe aplicatii.\n",
    "\n",
    " Lucrarea ar avea doua parti\n",
    "\n",
    " - partea teoretica: ce presupune de fapt NLP, prelucrari de diverse tipuri pe text -  in partea de clasificare se pot utiliza retele neurale\n",
    "\n",
    " - partea aplicativa: implementarea (adaptare eventual a unor exemple gasite pe Internet) si ilustrarea pe un set de date\n",
    "\n",
    " Daca partea teoretica este in mare parte aceeasi indiferent de domeniu, o provocare o reprezinta obtinerea unei baze de mesaje / texte pe care sa lucrezi.\n",
    "\n",
    " Setul de date: https://www.kaggle.com/datasets/manchunhui/us-election-2020-tweets/data"
   ]
  },
  {
   "cell_type": "markdown",
   "id": "905eb44f-097f-44e0-9cca-96740e1be73f",
   "metadata": {},
   "source": [
    "### Importare + eliminarea coloanelor inutile"
   ]
  },
  {
   "cell_type": "code",
   "execution_count": 4,
   "id": "e026d010-014f-4274-b565-5a2149908f42",
   "metadata": {},
   "outputs": [
    {
     "data": {
      "text/html": [
       "<div>\n",
       "<style scoped>\n",
       "    .dataframe tbody tr th:only-of-type {\n",
       "        vertical-align: middle;\n",
       "    }\n",
       "\n",
       "    .dataframe tbody tr th {\n",
       "        vertical-align: top;\n",
       "    }\n",
       "\n",
       "    .dataframe thead th {\n",
       "        text-align: right;\n",
       "    }\n",
       "</style>\n",
       "<table border=\"1\" class=\"dataframe\">\n",
       "  <thead>\n",
       "    <tr style=\"text-align: right;\">\n",
       "      <th></th>\n",
       "      <th>tweet</th>\n",
       "    </tr>\n",
       "  </thead>\n",
       "  <tbody>\n",
       "    <tr>\n",
       "      <th>0</th>\n",
       "      <td>#Elecciones2020 | En #Florida: #JoeBiden dice ...</td>\n",
       "    </tr>\n",
       "    <tr>\n",
       "      <th>1</th>\n",
       "      <td>#HunterBiden #HunterBidenEmails #JoeBiden #Joe...</td>\n",
       "    </tr>\n",
       "    <tr>\n",
       "      <th>2</th>\n",
       "      <td>@IslandGirlPRV @BradBeauregardJ @MeidasTouch T...</td>\n",
       "    </tr>\n",
       "    <tr>\n",
       "      <th>3</th>\n",
       "      <td>@chrislongview Watching and setting dvr. Let’s...</td>\n",
       "    </tr>\n",
       "    <tr>\n",
       "      <th>4</th>\n",
       "      <td>#censorship #HunterBiden #Biden #BidenEmails #...</td>\n",
       "    </tr>\n",
       "  </tbody>\n",
       "</table>\n",
       "</div>"
      ],
      "text/plain": [
       "                                               tweet\n",
       "0  #Elecciones2020 | En #Florida: #JoeBiden dice ...\n",
       "1  #HunterBiden #HunterBidenEmails #JoeBiden #Joe...\n",
       "2  @IslandGirlPRV @BradBeauregardJ @MeidasTouch T...\n",
       "3  @chrislongview Watching and setting dvr. Let’s...\n",
       "4  #censorship #HunterBiden #Biden #BidenEmails #..."
      ]
     },
     "execution_count": 4,
     "metadata": {},
     "output_type": "execute_result"
    }
   ],
   "source": [
    "import pandas as pd\n",
    "import string\n",
    "data_set_1 = pd.read_csv('hashtag_joebiden.csv')\n",
    "# data_set_1.head()\n",
    "#drop the columns\n",
    "data_set_1 = data_set_1.iloc[:,[0]]\n",
    "data_set_1.head()"
   ]
  },
  {
   "cell_type": "markdown",
   "id": "28039bb5-cce3-463d-b88d-10a9743767d6",
   "metadata": {},
   "source": [
    "### Convertire la lowercase"
   ]
  },
  {
   "cell_type": "code",
   "execution_count": 6,
   "id": "f72bebf8-8508-4de9-aafe-f0542f12e793",
   "metadata": {},
   "outputs": [
    {
     "data": {
      "text/html": [
       "<div>\n",
       "<style scoped>\n",
       "    .dataframe tbody tr th:only-of-type {\n",
       "        vertical-align: middle;\n",
       "    }\n",
       "\n",
       "    .dataframe tbody tr th {\n",
       "        vertical-align: top;\n",
       "    }\n",
       "\n",
       "    .dataframe thead th {\n",
       "        text-align: right;\n",
       "    }\n",
       "</style>\n",
       "<table border=\"1\" class=\"dataframe\">\n",
       "  <thead>\n",
       "    <tr style=\"text-align: right;\">\n",
       "      <th></th>\n",
       "      <th>tweet</th>\n",
       "    </tr>\n",
       "  </thead>\n",
       "  <tbody>\n",
       "    <tr>\n",
       "      <th>0</th>\n",
       "      <td>#elecciones2020 | en #florida: #joebiden dice ...</td>\n",
       "    </tr>\n",
       "    <tr>\n",
       "      <th>1</th>\n",
       "      <td>#hunterbiden #hunterbidenemails #joebiden #joe...</td>\n",
       "    </tr>\n",
       "    <tr>\n",
       "      <th>2</th>\n",
       "      <td>@islandgirlprv @bradbeauregardj @meidastouch t...</td>\n",
       "    </tr>\n",
       "    <tr>\n",
       "      <th>3</th>\n",
       "      <td>@chrislongview watching and setting dvr. let’s...</td>\n",
       "    </tr>\n",
       "    <tr>\n",
       "      <th>4</th>\n",
       "      <td>#censorship #hunterbiden #biden #bidenemails #...</td>\n",
       "    </tr>\n",
       "  </tbody>\n",
       "</table>\n",
       "</div>"
      ],
      "text/plain": [
       "                                               tweet\n",
       "0  #elecciones2020 | en #florida: #joebiden dice ...\n",
       "1  #hunterbiden #hunterbidenemails #joebiden #joe...\n",
       "2  @islandgirlprv @bradbeauregardj @meidastouch t...\n",
       "3  @chrislongview watching and setting dvr. let’s...\n",
       "4  #censorship #hunterbiden #biden #bidenemails #..."
      ]
     },
     "execution_count": 6,
     "metadata": {},
     "output_type": "execute_result"
    }
   ],
   "source": [
    "data_set_1['tweet'] = data_set_1['tweet'].str.lower()\n",
    "data_set_1.head()"
   ]
  },
  {
   "cell_type": "markdown",
   "id": "006693d8-7757-446e-b13e-5edc95c312a3",
   "metadata": {},
   "source": [
    "### Eliminam semnele de punctuatie si simbolurile"
   ]
  },
  {
   "cell_type": "code",
   "execution_count": 8,
   "id": "53398c64-302c-43c4-bf1a-45dc787c3f28",
   "metadata": {},
   "outputs": [],
   "source": [
    "def eliminate_punctuations(text):\n",
    "    extra_chars = \"►'—\"\n",
    "    all_punctuations = string.punctuation + extra_chars\n",
    "    if isinstance(text, str):\n",
    "        punctuations = string.punctuation\n",
    "        return text.translate(str.maketrans('', '', all_punctuations))\n",
    "    else:\n",
    "        return text"
   ]
  },
  {
   "cell_type": "code",
   "execution_count": 9,
   "id": "e83468e0-d135-44cf-89ea-4d36172b5f26",
   "metadata": {},
   "outputs": [],
   "source": [
    "data_set_1['tweet'] = data_set_1['tweet'].apply(eliminate_punctuations)"
   ]
  },
  {
   "cell_type": "code",
   "execution_count": 10,
   "id": "e073c0e4-31db-42b9-a59c-0659c0b515e3",
   "metadata": {},
   "outputs": [
    {
     "data": {
      "text/html": [
       "<div>\n",
       "<style scoped>\n",
       "    .dataframe tbody tr th:only-of-type {\n",
       "        vertical-align: middle;\n",
       "    }\n",
       "\n",
       "    .dataframe tbody tr th {\n",
       "        vertical-align: top;\n",
       "    }\n",
       "\n",
       "    .dataframe thead th {\n",
       "        text-align: right;\n",
       "    }\n",
       "</style>\n",
       "<table border=\"1\" class=\"dataframe\">\n",
       "  <thead>\n",
       "    <tr style=\"text-align: right;\">\n",
       "      <th></th>\n",
       "      <th>tweet</th>\n",
       "    </tr>\n",
       "  </thead>\n",
       "  <tbody>\n",
       "    <tr>\n",
       "      <th>0</th>\n",
       "      <td>elecciones2020  en florida joebiden dice que d...</td>\n",
       "    </tr>\n",
       "    <tr>\n",
       "      <th>1</th>\n",
       "      <td>hunterbiden hunterbidenemails joebiden joebide...</td>\n",
       "    </tr>\n",
       "    <tr>\n",
       "      <th>2</th>\n",
       "      <td>islandgirlprv bradbeauregardj meidastouch this...</td>\n",
       "    </tr>\n",
       "    <tr>\n",
       "      <th>3</th>\n",
       "      <td>chrislongview watching and setting dvr let’s g...</td>\n",
       "    </tr>\n",
       "    <tr>\n",
       "      <th>4</th>\n",
       "      <td>censorship hunterbiden biden bidenemails biden...</td>\n",
       "    </tr>\n",
       "    <tr>\n",
       "      <th>5</th>\n",
       "      <td>is this wrong cory bookers brilliant final que...</td>\n",
       "    </tr>\n",
       "    <tr>\n",
       "      <th>6</th>\n",
       "      <td>in 2020 nypost is being censorship censored by...</td>\n",
       "    </tr>\n",
       "    <tr>\n",
       "      <th>7</th>\n",
       "      <td>tell politicians to stick it with this free i...</td>\n",
       "    </tr>\n",
       "    <tr>\n",
       "      <th>8</th>\n",
       "      <td>biden httpstcoqms0pmuev5</td>\n",
       "    </tr>\n",
       "    <tr>\n",
       "      <th>9</th>\n",
       "      <td>proof  bidens are crooked twitter will suspend...</td>\n",
       "    </tr>\n",
       "    <tr>\n",
       "      <th>10</th>\n",
       "      <td>now open create a free us election pickem pool...</td>\n",
       "    </tr>\n",
       "    <tr>\n",
       "      <th>11</th>\n",
       "      <td>fbi allegedly obtained hunter biden computer d...</td>\n",
       "    </tr>\n",
       "    <tr>\n",
       "      <th>12</th>\n",
       "      <td>joebiden was the point man httpstcodotkamtths</td>\n",
       "    </tr>\n",
       "    <tr>\n",
       "      <th>13</th>\n",
       "      <td>y’all just locking up accounts cause yall dont...</td>\n",
       "    </tr>\n",
       "    <tr>\n",
       "      <th>14</th>\n",
       "      <td>tedcruz cc125 trump2020 blm obama votered bide...</td>\n",
       "    </tr>\n",
       "    <tr>\n",
       "      <th>15</th>\n",
       "      <td>icecube isn’t a sellout how long are black peo...</td>\n",
       "    </tr>\n",
       "    <tr>\n",
       "      <th>16</th>\n",
       "      <td>breaking  twitter safety account provides info...</td>\n",
       "    </tr>\n",
       "    <tr>\n",
       "      <th>17</th>\n",
       "      <td>comments on this do democrats understand how r...</td>\n",
       "    </tr>\n",
       "    <tr>\n",
       "      <th>18</th>\n",
       "      <td>httpstcokhrzuhsrqi here is joebiden admitting ...</td>\n",
       "    </tr>\n",
       "    <tr>\n",
       "      <th>19</th>\n",
       "      <td>i’m going to share things i like about biden m...</td>\n",
       "    </tr>\n",
       "  </tbody>\n",
       "</table>\n",
       "</div>"
      ],
      "text/plain": [
       "                                                tweet\n",
       "0   elecciones2020  en florida joebiden dice que d...\n",
       "1   hunterbiden hunterbidenemails joebiden joebide...\n",
       "2   islandgirlprv bradbeauregardj meidastouch this...\n",
       "3   chrislongview watching and setting dvr let’s g...\n",
       "4   censorship hunterbiden biden bidenemails biden...\n",
       "5   is this wrong cory bookers brilliant final que...\n",
       "6   in 2020 nypost is being censorship censored by...\n",
       "7    tell politicians to stick it with this free i...\n",
       "8                            biden httpstcoqms0pmuev5\n",
       "9   proof  bidens are crooked twitter will suspend...\n",
       "10  now open create a free us election pickem pool...\n",
       "11  fbi allegedly obtained hunter biden computer d...\n",
       "12      joebiden was the point man httpstcodotkamtths\n",
       "13  y’all just locking up accounts cause yall dont...\n",
       "14  tedcruz cc125 trump2020 blm obama votered bide...\n",
       "15  icecube isn’t a sellout how long are black peo...\n",
       "16  breaking  twitter safety account provides info...\n",
       "17  comments on this do democrats understand how r...\n",
       "18  httpstcokhrzuhsrqi here is joebiden admitting ...\n",
       "19  i’m going to share things i like about biden m..."
      ]
     },
     "execution_count": 10,
     "metadata": {},
     "output_type": "execute_result"
    }
   ],
   "source": [
    "data_set_1.head(20)"
   ]
  },
  {
   "cell_type": "markdown",
   "id": "45a6fc1a-d74e-4146-9ac7-739d7018ce36",
   "metadata": {},
   "source": [
    "### Stergem stopwords"
   ]
  },
  {
   "cell_type": "code",
   "execution_count": 12,
   "id": "3a470ea0-3e75-451d-a468-bd5c343c3390",
   "metadata": {},
   "outputs": [
    {
     "name": "stderr",
     "output_type": "stream",
     "text": [
      "[nltk_data] Downloading package stopwords to\n",
      "[nltk_data]     C:\\Users\\cozma\\AppData\\Roaming\\nltk_data...\n",
      "[nltk_data]   Package stopwords is already up-to-date!\n"
     ]
    }
   ],
   "source": [
    "import nltk\n",
    "from nltk.corpus import stopwords\n",
    "\n",
    "nltk.download('stopwords')\n",
    "\n",
    "STOPWORDS = set(stopwords.words('english'))\n",
    "\n",
    "def eliminate_stopwords(text):\n",
    "    return \" \".join([word for word in text.split() if word not in STOPWORDS])"
   ]
  },
  {
   "cell_type": "code",
   "execution_count": 13,
   "id": "6bbfff1d-e2fa-439d-a84c-a0d7adb13d61",
   "metadata": {},
   "outputs": [],
   "source": [
    "data_set_1 = data_set_1.dropna(subset=['tweet']) #elimin toate Nan-urile"
   ]
  },
  {
   "cell_type": "code",
   "execution_count": 14,
   "id": "d6865279-258a-42ec-9847-15b9ac7b3028",
   "metadata": {},
   "outputs": [
    {
     "data": {
      "text/html": [
       "<div>\n",
       "<style scoped>\n",
       "    .dataframe tbody tr th:only-of-type {\n",
       "        vertical-align: middle;\n",
       "    }\n",
       "\n",
       "    .dataframe tbody tr th {\n",
       "        vertical-align: top;\n",
       "    }\n",
       "\n",
       "    .dataframe thead th {\n",
       "        text-align: right;\n",
       "    }\n",
       "</style>\n",
       "<table border=\"1\" class=\"dataframe\">\n",
       "  <thead>\n",
       "    <tr style=\"text-align: right;\">\n",
       "      <th></th>\n",
       "      <th>tweet</th>\n",
       "    </tr>\n",
       "  </thead>\n",
       "  <tbody>\n",
       "    <tr>\n",
       "      <th>0</th>\n",
       "      <td>elecciones2020 en florida joebiden dice que do...</td>\n",
       "    </tr>\n",
       "    <tr>\n",
       "      <th>1</th>\n",
       "      <td>hunterbiden hunterbidenemails joebiden joebide...</td>\n",
       "    </tr>\n",
       "    <tr>\n",
       "      <th>2</th>\n",
       "      <td>islandgirlprv bradbeauregardj meidastouch bide...</td>\n",
       "    </tr>\n",
       "    <tr>\n",
       "      <th>3</th>\n",
       "      <td>chrislongview watching setting dvr let’s give ...</td>\n",
       "    </tr>\n",
       "    <tr>\n",
       "      <th>4</th>\n",
       "      <td>censorship hunterbiden biden bidenemails biden...</td>\n",
       "    </tr>\n",
       "  </tbody>\n",
       "</table>\n",
       "</div>"
      ],
      "text/plain": [
       "                                               tweet\n",
       "0  elecciones2020 en florida joebiden dice que do...\n",
       "1  hunterbiden hunterbidenemails joebiden joebide...\n",
       "2  islandgirlprv bradbeauregardj meidastouch bide...\n",
       "3  chrislongview watching setting dvr let’s give ...\n",
       "4  censorship hunterbiden biden bidenemails biden..."
      ]
     },
     "execution_count": 14,
     "metadata": {},
     "output_type": "execute_result"
    }
   ],
   "source": [
    "data_set_1['tweet'] = data_set_1['tweet'].apply(eliminate_stopwords)\n",
    "data_set_1.head()"
   ]
  },
  {
   "cell_type": "code",
   "execution_count": 15,
   "id": "99b8a228-4335-4132-b1d3-89a00bb4cb69",
   "metadata": {},
   "outputs": [],
   "source": [
    "data_set_1.to_csv('data_set_1.csv', index = False)"
   ]
  },
  {
   "cell_type": "markdown",
   "id": "c17c12a8-fb0e-4f49-b44b-ec56f7c73ee8",
   "metadata": {},
   "source": [
    "### Stergem cuvintele frecvente"
   ]
  },
  {
   "cell_type": "code",
   "execution_count": 18,
   "id": "039d4dee-603c-49ea-b63b-2553e5cf6036",
   "metadata": {},
   "outputs": [
    {
     "data": {
      "text/plain": [
       "[('biden', 582840),\n",
       " ('joebiden', 345458),\n",
       " ('trump', 268541),\n",
       " ('de', 93582),\n",
       " ('election2020', 88156),\n",
       " ('vote', 79102),\n",
       " ('president', 60041),\n",
       " ('joe', 59554),\n",
       " ('la', 54694),\n",
       " ('amp', 52275)]"
      ]
     },
     "execution_count": 18,
     "metadata": {},
     "output_type": "execute_result"
    }
   ],
   "source": [
    "from collections import Counter\n",
    "word_count = Counter()\n",
    "for text in data_set_1['tweet']:\n",
    "    for word in text.split():\n",
    "        word_count[word] += 1\n",
    "\n",
    "word_count.most_common(10)"
   ]
  },
  {
   "cell_type": "code",
   "execution_count": 20,
   "id": "ed74eaa8-46c5-48b5-b935-cb64d11daf97",
   "metadata": {},
   "outputs": [],
   "source": [
    "Frequent_Words = set(word for (word, wc) in word_count.most_common(3))\n",
    "def eliminate_freq_words(text):\n",
    "    return \" \".join([word for word in text.split() if word not in Frequent_Words])"
   ]
  },
  {
   "cell_type": "code",
   "execution_count": 35,
   "id": "4dce3c81-8cf6-4e83-b30d-d260c4ba6538",
   "metadata": {},
   "outputs": [
    {
     "data": {
      "text/html": [
       "<div>\n",
       "<style scoped>\n",
       "    .dataframe tbody tr th:only-of-type {\n",
       "        vertical-align: middle;\n",
       "    }\n",
       "\n",
       "    .dataframe tbody tr th {\n",
       "        vertical-align: top;\n",
       "    }\n",
       "\n",
       "    .dataframe thead th {\n",
       "        text-align: right;\n",
       "    }\n",
       "</style>\n",
       "<table border=\"1\" class=\"dataframe\">\n",
       "  <thead>\n",
       "    <tr style=\"text-align: right;\">\n",
       "      <th></th>\n",
       "      <th>tweet</th>\n",
       "    </tr>\n",
       "  </thead>\n",
       "  <tbody>\n",
       "    <tr>\n",
       "      <th>0</th>\n",
       "      <td>elecciones2020 en florida dice que donaldtrump...</td>\n",
       "    </tr>\n",
       "    <tr>\n",
       "      <th>1</th>\n",
       "      <td>hunterbiden hunterbidenemails joebidenmuststep...</td>\n",
       "    </tr>\n",
       "    <tr>\n",
       "      <th>2</th>\n",
       "      <td>islandgirlprv bradbeauregardj meidastouch made...</td>\n",
       "    </tr>\n",
       "    <tr>\n",
       "      <th>3</th>\n",
       "      <td>chrislongview watching setting dvr let’s give ...</td>\n",
       "    </tr>\n",
       "    <tr>\n",
       "      <th>4</th>\n",
       "      <td>censorship hunterbiden bidenemails bidenemail ...</td>\n",
       "    </tr>\n",
       "    <tr>\n",
       "      <th>5</th>\n",
       "      <td>wrong cory bookers brilliant final questioning...</td>\n",
       "    </tr>\n",
       "    <tr>\n",
       "      <th>6</th>\n",
       "      <td>2020 nypost censorship censored twitter manipu...</td>\n",
       "    </tr>\n",
       "    <tr>\n",
       "      <th>7</th>\n",
       "      <td>tell politicians stick free item httpstcosua2f...</td>\n",
       "    </tr>\n",
       "    <tr>\n",
       "      <th>8</th>\n",
       "      <td>httpstcoqms0pmuev5</td>\n",
       "    </tr>\n",
       "    <tr>\n",
       "      <th>9</th>\n",
       "      <td>proof bidens crooked twitter suspend sharing h...</td>\n",
       "    </tr>\n",
       "  </tbody>\n",
       "</table>\n",
       "</div>"
      ],
      "text/plain": [
       "                                               tweet\n",
       "0  elecciones2020 en florida dice que donaldtrump...\n",
       "1  hunterbiden hunterbidenemails joebidenmuststep...\n",
       "2  islandgirlprv bradbeauregardj meidastouch made...\n",
       "3  chrislongview watching setting dvr let’s give ...\n",
       "4  censorship hunterbiden bidenemails bidenemail ...\n",
       "5  wrong cory bookers brilliant final questioning...\n",
       "6  2020 nypost censorship censored twitter manipu...\n",
       "7  tell politicians stick free item httpstcosua2f...\n",
       "8                                 httpstcoqms0pmuev5\n",
       "9  proof bidens crooked twitter suspend sharing h..."
      ]
     },
     "execution_count": 35,
     "metadata": {},
     "output_type": "execute_result"
    }
   ],
   "source": [
    "data_set_1['tweet'] = data_set_1['tweet'].apply(eliminate_freq_words)\n",
    "data_set_1.head(10)"
   ]
  },
  {
   "cell_type": "markdown",
   "id": "ca482cfa-687b-41af-bfbb-7a9ce3686a2b",
   "metadata": {},
   "source": [
    "### Eliminam cuvintele rare"
   ]
  },
  {
   "cell_type": "code",
   "execution_count": 27,
   "id": "eaf179d3-6711-42e3-97bf-61ff6274a9ee",
   "metadata": {},
   "outputs": [
    {
     "data": {
      "text/plain": [
       "{'adnkronoshttpstcop8ksr3tako',\n",
       " 'conoscerci',\n",
       " 'emozione’',\n",
       " 'giacoppolontana',\n",
       " 'httpstcodechp5ypch',\n",
       " 'jillbidenmia',\n",
       " 'jilljacobsla',\n",
       " 'ladyla',\n",
       " '‘sono'}"
      ]
     },
     "execution_count": 27,
     "metadata": {},
     "output_type": "execute_result"
    }
   ],
   "source": [
    "rare_words = set(word for(word, wc) in word_count.most_common()[:-10:-1])\n",
    "rare_words"
   ]
  },
  {
   "cell_type": "code",
   "execution_count": 29,
   "id": "3dc28332-1d53-40da-9fc4-1391e4fdd42e",
   "metadata": {},
   "outputs": [],
   "source": [
    "def eliminate_rare_words(text):\n",
    "    return \" \".join([word for word in text.split() if word not in rare_words])"
   ]
  },
  {
   "cell_type": "code",
   "execution_count": 33,
   "id": "90ec3e57-dc94-42f3-ad38-efe8f93a039c",
   "metadata": {},
   "outputs": [
    {
     "data": {
      "text/html": [
       "<div>\n",
       "<style scoped>\n",
       "    .dataframe tbody tr th:only-of-type {\n",
       "        vertical-align: middle;\n",
       "    }\n",
       "\n",
       "    .dataframe tbody tr th {\n",
       "        vertical-align: top;\n",
       "    }\n",
       "\n",
       "    .dataframe thead th {\n",
       "        text-align: right;\n",
       "    }\n",
       "</style>\n",
       "<table border=\"1\" class=\"dataframe\">\n",
       "  <thead>\n",
       "    <tr style=\"text-align: right;\">\n",
       "      <th></th>\n",
       "      <th>tweet</th>\n",
       "    </tr>\n",
       "  </thead>\n",
       "  <tbody>\n",
       "    <tr>\n",
       "      <th>0</th>\n",
       "      <td>elecciones2020 en florida dice que donaldtrump...</td>\n",
       "    </tr>\n",
       "    <tr>\n",
       "      <th>1</th>\n",
       "      <td>hunterbiden hunterbidenemails joebidenmuststep...</td>\n",
       "    </tr>\n",
       "    <tr>\n",
       "      <th>2</th>\n",
       "      <td>islandgirlprv bradbeauregardj meidastouch made...</td>\n",
       "    </tr>\n",
       "    <tr>\n",
       "      <th>3</th>\n",
       "      <td>chrislongview watching setting dvr let’s give ...</td>\n",
       "    </tr>\n",
       "    <tr>\n",
       "      <th>4</th>\n",
       "      <td>censorship hunterbiden bidenemails bidenemail ...</td>\n",
       "    </tr>\n",
       "    <tr>\n",
       "      <th>5</th>\n",
       "      <td>wrong cory bookers brilliant final questioning...</td>\n",
       "    </tr>\n",
       "    <tr>\n",
       "      <th>6</th>\n",
       "      <td>2020 nypost censorship censored twitter manipu...</td>\n",
       "    </tr>\n",
       "    <tr>\n",
       "      <th>7</th>\n",
       "      <td>tell politicians stick free item httpstcosua2f...</td>\n",
       "    </tr>\n",
       "    <tr>\n",
       "      <th>8</th>\n",
       "      <td>httpstcoqms0pmuev5</td>\n",
       "    </tr>\n",
       "    <tr>\n",
       "      <th>9</th>\n",
       "      <td>proof bidens crooked twitter suspend sharing h...</td>\n",
       "    </tr>\n",
       "  </tbody>\n",
       "</table>\n",
       "</div>"
      ],
      "text/plain": [
       "                                               tweet\n",
       "0  elecciones2020 en florida dice que donaldtrump...\n",
       "1  hunterbiden hunterbidenemails joebidenmuststep...\n",
       "2  islandgirlprv bradbeauregardj meidastouch made...\n",
       "3  chrislongview watching setting dvr let’s give ...\n",
       "4  censorship hunterbiden bidenemails bidenemail ...\n",
       "5  wrong cory bookers brilliant final questioning...\n",
       "6  2020 nypost censorship censored twitter manipu...\n",
       "7  tell politicians stick free item httpstcosua2f...\n",
       "8                                 httpstcoqms0pmuev5\n",
       "9  proof bidens crooked twitter suspend sharing h..."
      ]
     },
     "execution_count": 33,
     "metadata": {},
     "output_type": "execute_result"
    }
   ],
   "source": [
    "data_set_1['tweet'] = data_set_1['tweet'].apply(eliminate_rare_words)\n",
    "data_set_1.head(10)"
   ]
  },
  {
   "cell_type": "code",
   "execution_count": null,
   "id": "577a1387-b47d-4b1f-888b-a18d22ac7d4e",
   "metadata": {},
   "outputs": [],
   "source": []
  }
 ],
 "metadata": {
  "kernelspec": {
   "display_name": "Python 3 (ipykernel)",
   "language": "python",
   "name": "python3"
  },
  "language_info": {
   "codemirror_mode": {
    "name": "ipython",
    "version": 3
   },
   "file_extension": ".py",
   "mimetype": "text/x-python",
   "name": "python",
   "nbconvert_exporter": "python",
   "pygments_lexer": "ipython3",
   "version": "3.12.4"
  }
 },
 "nbformat": 4,
 "nbformat_minor": 5
}
